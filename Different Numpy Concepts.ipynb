{
 "cells": [
  {
   "cell_type": "markdown",
   "id": "c1439fa1",
   "metadata": {},
   "source": [
    "INTRODUCTION TO NUMPY\n"
   ]
  },
  {
   "cell_type": "code",
   "execution_count": 185,
   "id": "bda6fd30",
   "metadata": {},
   "outputs": [
    {
     "data": {
      "text/plain": [
       "numpy.ndarray"
      ]
     },
     "execution_count": 185,
     "metadata": {},
     "output_type": "execute_result"
    }
   ],
   "source": [
    "#Numpy array initiation\n",
    "import numpy as np\n",
    "\n",
    "a= np.array([1,2,3,4,5])\n",
    "type(a)"
   ]
  },
  {
   "cell_type": "markdown",
   "id": "4a405cec",
   "metadata": {},
   "source": [
    "The data type of numpy is n-dimention array, where 'n' can be any interger number. But if n = 1; 1-dimension array, n=2; 2-dimention array, and if 'n' is equal to any number apart from 1 and 2 that is considered as a Tensor."
   ]
  },
  {
   "cell_type": "markdown",
   "id": "8db21ccc",
   "metadata": {},
   "source": [
    "A tensor is an array with three dimension or higher"
   ]
  },
  {
   "cell_type": "code",
   "execution_count": 186,
   "id": "dc26adb7",
   "metadata": {},
   "outputs": [
    {
     "data": {
      "text/plain": [
       "1"
      ]
     },
     "execution_count": 186,
     "metadata": {},
     "output_type": "execute_result"
    }
   ],
   "source": [
    "#Accessing element in array\n",
    "#Index of elements in numpy array start from 0\n",
    "#Let's access the first element of a\n",
    "a[0]"
   ]
  },
  {
   "cell_type": "code",
   "execution_count": 187,
   "id": "9cf52fa2",
   "metadata": {},
   "outputs": [
    {
     "data": {
      "text/plain": [
       "5"
      ]
     },
     "execution_count": 187,
     "metadata": {},
     "output_type": "execute_result"
    }
   ],
   "source": [
    "#Second element and so on will be accessed the same\n",
    "#i.e\n",
    "a[4]"
   ]
  },
  {
   "cell_type": "code",
   "execution_count": 188,
   "id": "75ff7875",
   "metadata": {},
   "outputs": [
    {
     "data": {
      "text/plain": [
       "array([0., 0., 0.])"
      ]
     },
     "execution_count": 188,
     "metadata": {},
     "output_type": "execute_result"
    }
   ],
   "source": [
    "#We can create an array filled by Zero's and one's\n",
    "a = np.zeros(3)\n",
    "a"
   ]
  },
  {
   "cell_type": "code",
   "execution_count": 189,
   "id": "4b0bb8fc",
   "metadata": {},
   "outputs": [
    {
     "data": {
      "text/plain": [
       "array([1., 1., 1., 1., 1.])"
      ]
     },
     "execution_count": 189,
     "metadata": {},
     "output_type": "execute_result"
    }
   ],
   "source": [
    "a = np.ones(5)\n",
    "a"
   ]
  },
  {
   "cell_type": "code",
   "execution_count": 190,
   "id": "29b2b9ab",
   "metadata": {},
   "outputs": [
    {
     "data": {
      "text/plain": [
       "array([2., 4., 6., 8.])"
      ]
     },
     "execution_count": 190,
     "metadata": {},
     "output_type": "execute_result"
    }
   ],
   "source": [
    "#Additionally, you can create an array whose initial content are random and depend on the state of the memory\n",
    "a = np.empty(4)\n",
    "a"
   ]
  },
  {
   "cell_type": "code",
   "execution_count": 191,
   "id": "52ce9f4c",
   "metadata": {},
   "outputs": [
    {
     "data": {
      "text/plain": [
       "array([0, 1, 2, 3, 4, 5])"
      ]
     },
     "execution_count": 191,
     "metadata": {},
     "output_type": "execute_result"
    }
   ],
   "source": [
    "#Creating a range of elements in array\n",
    "#we use numpy.arange(), its has three parameter; (start,end,step size)\n",
    "a = np.arange(6)#It use a default, start = 0, step size = 1, end = number given minus one\n",
    "a"
   ]
  },
  {
   "cell_type": "code",
   "execution_count": 192,
   "id": "bf23eb9a",
   "metadata": {},
   "outputs": [
    {
     "data": {
      "text/plain": [
       "array([1, 3, 5, 7, 9])"
      ]
     },
     "execution_count": 192,
     "metadata": {},
     "output_type": "execute_result"
    }
   ],
   "source": [
    "a = np.arange(1,10,2)#start = 1, end = 10, step size = 2\n",
    "a"
   ]
  },
  {
   "cell_type": "code",
   "execution_count": 193,
   "id": "a3369206",
   "metadata": {},
   "outputs": [
    {
     "data": {
      "text/plain": [
       "array([ 1.  ,  3.25,  5.5 ,  7.75, 10.  ])"
      ]
     },
     "execution_count": 193,
     "metadata": {},
     "output_type": "execute_result"
    }
   ],
   "source": [
    "#We can use also numpy.linspace()\n",
    "#'lin' refers to generating linearly spaced values as opposed to the sibling function logspace,\n",
    "#which generates logarithmically spaced values\n",
    "#To create an array with values that are spaced linearly in a specified interval\n",
    "#Essentially,you specify a starting point and ending point of an interval,\n",
    "#And then specify the total number of breakpoint you want within that interval(including the start point and end point)\n",
    "a = np.linspace(1,10,5)#startpoint = 1, ending point = 10,number of breakpoint =5\n",
    "a"
   ]
  },
  {
   "cell_type": "code",
   "execution_count": 194,
   "id": "5b13ad40",
   "metadata": {},
   "outputs": [
    {
     "data": {
      "text/plain": [
       "(6,)"
      ]
     },
     "execution_count": 194,
     "metadata": {},
     "output_type": "execute_result"
    }
   ],
   "source": [
    "#To know the shape,dimension and size of an array\n",
    "a = np.array([1,2,3,4,5,6])\n",
    "a.shape"
   ]
  },
  {
   "cell_type": "markdown",
   "id": "27fc4785",
   "metadata": {},
   "source": [
    "'6' means a single row with 6 elements"
   ]
  },
  {
   "cell_type": "code",
   "execution_count": 195,
   "id": "a02c2eac",
   "metadata": {},
   "outputs": [
    {
     "data": {
      "text/plain": [
       "1"
      ]
     },
     "execution_count": 195,
     "metadata": {},
     "output_type": "execute_result"
    }
   ],
   "source": [
    "a.ndim"
   ]
  },
  {
   "cell_type": "markdown",
   "id": "4e9a39fb",
   "metadata": {},
   "source": [
    "'1' means 1-dimension array"
   ]
  },
  {
   "cell_type": "code",
   "execution_count": 196,
   "id": "46b267d2",
   "metadata": {},
   "outputs": [
    {
     "data": {
      "text/plain": [
       "6"
      ]
     },
     "execution_count": 196,
     "metadata": {},
     "output_type": "execute_result"
    }
   ],
   "source": [
    "a.size"
   ]
  },
  {
   "cell_type": "markdown",
   "id": "f83857ff",
   "metadata": {},
   "source": [
    "'6' means an array have 6 element"
   ]
  },
  {
   "cell_type": "code",
   "execution_count": 197,
   "id": "dd91b7cf",
   "metadata": {},
   "outputs": [
    {
     "data": {
      "text/plain": [
       "(2, 3)"
      ]
     },
     "execution_count": 197,
     "metadata": {},
     "output_type": "execute_result"
    }
   ],
   "source": [
    "#Let's try another example\n",
    "a = np.array([[1,2,3], [4,5,6]])\n",
    "a.shape"
   ]
  },
  {
   "cell_type": "markdown",
   "id": "08c555e2",
   "metadata": {},
   "source": [
    "'2' represent number of rows, '3' represent number of columns"
   ]
  },
  {
   "cell_type": "code",
   "execution_count": 198,
   "id": "7194de8e",
   "metadata": {},
   "outputs": [
    {
     "data": {
      "text/plain": [
       "2"
      ]
     },
     "execution_count": 198,
     "metadata": {},
     "output_type": "execute_result"
    }
   ],
   "source": [
    "a.ndim"
   ]
  },
  {
   "cell_type": "markdown",
   "id": "5e833e07",
   "metadata": {},
   "source": [
    "'2' means 2-dimension array"
   ]
  },
  {
   "cell_type": "code",
   "execution_count": 199,
   "id": "4fcc9f51",
   "metadata": {},
   "outputs": [
    {
     "data": {
      "text/plain": [
       "6"
      ]
     },
     "execution_count": 199,
     "metadata": {},
     "output_type": "execute_result"
    }
   ],
   "source": [
    "#Size is the product of the element of the array's shape\n",
    "a.size"
   ]
  },
  {
   "cell_type": "markdown",
   "id": "4fb170d4",
   "metadata": {},
   "source": [
    "'6' means an array have 6 elements"
   ]
  },
  {
   "cell_type": "markdown",
   "id": "535a35cb",
   "metadata": {},
   "source": [
    "RESHAPING NUMPY ARRAY"
   ]
  },
  {
   "cell_type": "code",
   "execution_count": 200,
   "id": "40d7d3f3",
   "metadata": {},
   "outputs": [
    {
     "data": {
      "text/plain": [
       "array([ 0,  5, 10, 15, 20, 25, 30, 35, 40, 45, 50, 55, 60, 65, 70, 75, 80,\n",
       "       85, 90, 95])"
      ]
     },
     "execution_count": 200,
     "metadata": {},
     "output_type": "execute_result"
    }
   ],
   "source": [
    "#we use numpy.reshape() function\n",
    "#When we use the reshape method,\n",
    "#The array you want to produce needs to have the same number of elements as the original array\n",
    "\n",
    "#i.e\n",
    "a = np.arange(0,100,5)\n",
    "a"
   ]
  },
  {
   "cell_type": "code",
   "execution_count": 201,
   "id": "ad922a44",
   "metadata": {},
   "outputs": [
    {
     "data": {
      "text/plain": [
       "20"
      ]
     },
     "execution_count": 201,
     "metadata": {},
     "output_type": "execute_result"
    }
   ],
   "source": [
    "#number of elements in array\n",
    "len(a)"
   ]
  },
  {
   "cell_type": "code",
   "execution_count": 202,
   "id": "71991c9b",
   "metadata": {},
   "outputs": [
    {
     "data": {
      "text/plain": [
       "array([[ 0,  5, 10, 15, 20],\n",
       "       [25, 30, 35, 40, 45],\n",
       "       [50, 55, 60, 65, 70],\n",
       "       [75, 80, 85, 90, 95]])"
      ]
     },
     "execution_count": 202,
     "metadata": {},
     "output_type": "execute_result"
    }
   ],
   "source": [
    "#So if we want to reshape another array, the number of new array elements must be the same as origin array\n",
    "b = a.reshape(4,5)#rows = 4, columns = 5;since the product of 4*5 = 20,hence the size = 20\n",
    "b"
   ]
  },
  {
   "cell_type": "markdown",
   "id": "04b9d75b",
   "metadata": {},
   "source": [
    "Another examples are given below"
   ]
  },
  {
   "cell_type": "code",
   "execution_count": 203,
   "id": "979db9a1",
   "metadata": {},
   "outputs": [
    {
     "data": {
      "text/plain": [
       "array([[ 0,  5],\n",
       "       [10, 15],\n",
       "       [20, 25],\n",
       "       [30, 35],\n",
       "       [40, 45],\n",
       "       [50, 55],\n",
       "       [60, 65],\n",
       "       [70, 75],\n",
       "       [80, 85],\n",
       "       [90, 95]])"
      ]
     },
     "execution_count": 203,
     "metadata": {},
     "output_type": "execute_result"
    }
   ],
   "source": [
    "c = a.reshape(10,2)\n",
    "c"
   ]
  },
  {
   "cell_type": "code",
   "execution_count": 204,
   "id": "f1a83afa",
   "metadata": {},
   "outputs": [
    {
     "data": {
      "text/plain": [
       "20"
      ]
     },
     "execution_count": 204,
     "metadata": {},
     "output_type": "execute_result"
    }
   ],
   "source": [
    "c.size"
   ]
  },
  {
   "cell_type": "code",
   "execution_count": 205,
   "id": "fd6d063f",
   "metadata": {},
   "outputs": [
    {
     "data": {
      "text/plain": [
       "array([[ 0,  5, 10, 15, 20, 25, 30, 35, 40, 45],\n",
       "       [50, 55, 60, 65, 70, 75, 80, 85, 90, 95]])"
      ]
     },
     "execution_count": 205,
     "metadata": {},
     "output_type": "execute_result"
    }
   ],
   "source": [
    "d = a.reshape(2,10)\n",
    "d"
   ]
  },
  {
   "cell_type": "code",
   "execution_count": 206,
   "id": "066049cf",
   "metadata": {},
   "outputs": [
    {
     "data": {
      "text/plain": [
       "20"
      ]
     },
     "execution_count": 206,
     "metadata": {},
     "output_type": "execute_result"
    }
   ],
   "source": [
    "d.size"
   ]
  },
  {
   "cell_type": "markdown",
   "id": "8729e2ed",
   "metadata": {},
   "source": [
    "ACCESSING ELEMENTS OF NUMPY ARRAY"
   ]
  },
  {
   "cell_type": "code",
   "execution_count": 207,
   "id": "044c6e9e",
   "metadata": {},
   "outputs": [
    {
     "data": {
      "text/plain": [
       "5"
      ]
     },
     "execution_count": 207,
     "metadata": {},
     "output_type": "execute_result"
    }
   ],
   "source": [
    "#Indexing Numpy Array\n",
    "#Accessing 1-dimension Numpy array elements\n",
    "a = np.array([1,2,3,4,5])\n",
    "a[4]"
   ]
  },
  {
   "cell_type": "code",
   "execution_count": 208,
   "id": "a04be0bc",
   "metadata": {},
   "outputs": [
    {
     "data": {
      "text/plain": [
       "4"
      ]
     },
     "execution_count": 208,
     "metadata": {},
     "output_type": "execute_result"
    }
   ],
   "source": [
    "#Accessing 2-dimension Numpy array elements\n",
    "#We use comma separated integers representing the dimension and the index of the element\n",
    "a = np.array([[1,2,3],[4,5,6]])\n",
    "a[1,0]#accesing 4"
   ]
  },
  {
   "cell_type": "code",
   "execution_count": 209,
   "id": "0e2dc27b",
   "metadata": {},
   "outputs": [
    {
     "data": {
      "text/plain": [
       "2"
      ]
     },
     "execution_count": 209,
     "metadata": {},
     "output_type": "execute_result"
    }
   ],
   "source": [
    "a[0,1]#accessing 2"
   ]
  },
  {
   "cell_type": "code",
   "execution_count": 210,
   "id": "34174436",
   "metadata": {},
   "outputs": [
    {
     "data": {
      "text/plain": [
       "10"
      ]
     },
     "execution_count": 210,
     "metadata": {},
     "output_type": "execute_result"
    }
   ],
   "source": [
    "#Accessing 3-dimension Numpy array elements\n",
    "#To access elements in 3-dimension numpy array we can use comma separated integers representing the dimensions\n",
    "#and the index of the elements\n",
    "\n",
    "#i.e\n",
    "a = np.array([[[1,2,3],[4,5,6]],[[7,8,9],[10,11,12]]])\n",
    "a[1,1,0]#accessing number 10\n",
    "\n"
   ]
  },
  {
   "cell_type": "markdown",
   "id": "e2949e56",
   "metadata": {},
   "source": [
    "In accessing 3-dimension array i.e accessing number 10 in array 'a' we do a[1,1,0], where the first number represents the first dimension, the second number represents the second dimension, the third number represent represent the third dimension. So n-dimension array may be accessed in the same way starting from first dimension which is represented by the first number to the n-dimension which is represented by the last number i.e array[1,.............,n] where 'n' is number of dimension."
   ]
  },
  {
   "cell_type": "markdown",
   "id": "842457db",
   "metadata": {},
   "source": [
    "Consider more examples below;"
   ]
  },
  {
   "cell_type": "code",
   "execution_count": 211,
   "id": "789f583c",
   "metadata": {},
   "outputs": [
    {
     "data": {
      "text/plain": [
       "array([[[[ 2.,  4.,  6.,  8.]],\n",
       "\n",
       "        [[10., 13., 16., 19.]]],\n",
       "\n",
       "\n",
       "       [[[ 0.,  0.,  0.,  0.]],\n",
       "\n",
       "        [[ 2.,  4.,  6.,  8.]]]])"
      ]
     },
     "execution_count": 211,
     "metadata": {},
     "output_type": "execute_result"
    }
   ],
   "source": [
    "#We combine different concept from the above illustration\n",
    "b = np.array([[[np.arange(2,10,2)],[np.arange(10,20,3)]],[[np.zeros(4)],[np.empty(4)]]])\n",
    "b"
   ]
  },
  {
   "cell_type": "markdown",
   "id": "a82547b8",
   "metadata": {},
   "source": [
    "Let's try to access different elements from the array 'b'"
   ]
  },
  {
   "cell_type": "code",
   "execution_count": 212,
   "id": "d09f239d",
   "metadata": {},
   "outputs": [
    {
     "data": {
      "text/plain": [
       "2.0"
      ]
     },
     "execution_count": 212,
     "metadata": {},
     "output_type": "execute_result"
    }
   ],
   "source": [
    "#Accessing 2.00000000e+000\n",
    "b[0,0,0,0]"
   ]
  },
  {
   "cell_type": "code",
   "execution_count": 213,
   "id": "c845b375",
   "metadata": {},
   "outputs": [
    {
     "data": {
      "text/plain": [
       "6.0"
      ]
     },
     "execution_count": 213,
     "metadata": {},
     "output_type": "execute_result"
    }
   ],
   "source": [
    "#Accessing 3.63632315e-321\n",
    "b[1,1,0,2]"
   ]
  },
  {
   "cell_type": "markdown",
   "id": "56149387",
   "metadata": {},
   "source": [
    "Try to test the rest for more understanding"
   ]
  },
  {
   "cell_type": "code",
   "execution_count": 214,
   "id": "49005d59",
   "metadata": {},
   "outputs": [
    {
     "data": {
      "text/plain": [
       "6"
      ]
     },
     "execution_count": 214,
     "metadata": {},
     "output_type": "execute_result"
    }
   ],
   "source": [
    "#Negative indexing\n",
    "#It access an array from the end\n",
    "a = np.array([1,2,3,4,5,6])\n",
    "a[-1]#access the last element"
   ]
  },
  {
   "cell_type": "code",
   "execution_count": 215,
   "id": "bd3c9c91",
   "metadata": {},
   "outputs": [
    {
     "data": {
      "text/plain": [
       "5"
      ]
     },
     "execution_count": 215,
     "metadata": {},
     "output_type": "execute_result"
    }
   ],
   "source": [
    "a[-2]#access the second element from the last"
   ]
  },
  {
   "cell_type": "markdown",
   "id": "c259f16a",
   "metadata": {},
   "source": [
    "SLICING NUMPY ARRAY"
   ]
  },
  {
   "cell_type": "markdown",
   "id": "b134bbb3",
   "metadata": {},
   "source": [
    "-Slicing is an extracting a particular set of elements from your array."
   ]
  },
  {
   "cell_type": "markdown",
   "id": "64f8f710",
   "metadata": {},
   "source": [
    "-It syntax is [start:end:step]"
   ]
  },
  {
   "cell_type": "markdown",
   "id": "9bde4959",
   "metadata": {},
   "source": [
    "-If we don't pass any of the given values for start, end and step they will default to the following values:"
   ]
  },
  {
   "cell_type": "markdown",
   "id": "7dcb8601",
   "metadata": {},
   "source": [
    "-start: default to 0"
   ]
  },
  {
   "cell_type": "markdown",
   "id": "42555073",
   "metadata": {},
   "source": [
    "-end: default to the length of the array in the given dimension"
   ]
  },
  {
   "cell_type": "markdown",
   "id": "2286fa43",
   "metadata": {},
   "source": [
    "-step: default to 1"
   ]
  },
  {
   "cell_type": "code",
   "execution_count": 216,
   "id": "cbc135a6",
   "metadata": {},
   "outputs": [
    {
     "data": {
      "text/plain": [
       "array([1, 2, 3])"
      ]
     },
     "execution_count": 216,
     "metadata": {},
     "output_type": "execute_result"
    }
   ],
   "source": [
    "#Slicing  1-Dimension array\n",
    "a = np.array([1,2,3,4,5,6,7])\n",
    "a[0:3]#accessing element from first element to third element"
   ]
  },
  {
   "cell_type": "markdown",
   "id": "7ccadfba",
   "metadata": {},
   "source": [
    "NOTE: The result includes the start index,but excludes the end index"
   ]
  },
  {
   "cell_type": "code",
   "execution_count": 217,
   "id": "612639ad",
   "metadata": {},
   "outputs": [
    {
     "data": {
      "text/plain": [
       "array([1, 3, 5, 7])"
      ]
     },
     "execution_count": 217,
     "metadata": {},
     "output_type": "execute_result"
    }
   ],
   "source": [
    "#More examples\n",
    "a[0:7:2]#star = 0, end = 7, step = 2"
   ]
  },
  {
   "cell_type": "code",
   "execution_count": 218,
   "id": "d8722bf0",
   "metadata": {},
   "outputs": [
    {
     "data": {
      "text/plain": [
       "array([1, 2, 3, 4, 5, 6, 7])"
      ]
     },
     "execution_count": 218,
     "metadata": {},
     "output_type": "execute_result"
    }
   ],
   "source": [
    "a[0:7:1]"
   ]
  },
  {
   "cell_type": "code",
   "execution_count": 219,
   "id": "95b0b6f2",
   "metadata": {},
   "outputs": [
    {
     "data": {
      "text/plain": [
       "array([5, 6, 7])"
      ]
     },
     "execution_count": 219,
     "metadata": {},
     "output_type": "execute_result"
    }
   ],
   "source": [
    "a[4:]"
   ]
  },
  {
   "cell_type": "code",
   "execution_count": 220,
   "id": "afb1a817",
   "metadata": {},
   "outputs": [
    {
     "data": {
      "text/plain": [
       "array([1, 2, 3, 4, 5, 6])"
      ]
     },
     "execution_count": 220,
     "metadata": {},
     "output_type": "execute_result"
    }
   ],
   "source": [
    "a[:-1]"
   ]
  },
  {
   "cell_type": "code",
   "execution_count": 221,
   "id": "647a1b6c",
   "metadata": {},
   "outputs": [
    {
     "data": {
      "text/plain": [
       "array([5, 6])"
      ]
     },
     "execution_count": 221,
     "metadata": {},
     "output_type": "execute_result"
    }
   ],
   "source": [
    "a[-3:-1]"
   ]
  },
  {
   "cell_type": "code",
   "execution_count": 222,
   "id": "949afea8",
   "metadata": {},
   "outputs": [
    {
     "data": {
      "text/plain": [
       "array([2, 4])"
      ]
     },
     "execution_count": 222,
     "metadata": {},
     "output_type": "execute_result"
    }
   ],
   "source": [
    "a[1:5:2]"
   ]
  },
  {
   "cell_type": "code",
   "execution_count": 223,
   "id": "14851610",
   "metadata": {},
   "outputs": [
    {
     "data": {
      "text/plain": [
       "array([7, 8, 9])"
      ]
     },
     "execution_count": 223,
     "metadata": {},
     "output_type": "execute_result"
    }
   ],
   "source": [
    "#Slicing 2-Dimension Array\n",
    "a = np.array([[1,2,3,4,5],[6,7,8,9,10]])\n",
    "#From the second element,slice elements from index 1 to index 4(remember the last element is not included)\n",
    "a[1,1:4]"
   ]
  },
  {
   "cell_type": "code",
   "execution_count": 224,
   "id": "02469e46",
   "metadata": {},
   "outputs": [
    {
     "data": {
      "text/plain": [
       "array([3, 8])"
      ]
     },
     "execution_count": 224,
     "metadata": {},
     "output_type": "execute_result"
    }
   ],
   "source": [
    "#Another example\n",
    "#From both element return index 2\n",
    "a[:,2]"
   ]
  },
  {
   "cell_type": "code",
   "execution_count": 225,
   "id": "56bf9581",
   "metadata": {},
   "outputs": [
    {
     "data": {
      "text/plain": [
       "array([3, 8])"
      ]
     },
     "execution_count": 225,
     "metadata": {},
     "output_type": "execute_result"
    }
   ],
   "source": [
    "#An alternative way\n",
    "a[0:2,2]"
   ]
  },
  {
   "cell_type": "code",
   "execution_count": 226,
   "id": "ce538594",
   "metadata": {},
   "outputs": [
    {
     "data": {
      "text/plain": [
       "array([[2, 3, 4],\n",
       "       [7, 8, 9]])"
      ]
     },
     "execution_count": 226,
     "metadata": {},
     "output_type": "execute_result"
    }
   ],
   "source": [
    "#Another example\n",
    "#From both elements, slice index 1 to index 4\n",
    "a[:,1:4]"
   ]
  },
  {
   "cell_type": "code",
   "execution_count": 227,
   "id": "45566787",
   "metadata": {},
   "outputs": [
    {
     "data": {
      "text/plain": [
       "array([[2, 3, 4],\n",
       "       [7, 8, 9]])"
      ]
     },
     "execution_count": 227,
     "metadata": {},
     "output_type": "execute_result"
    }
   ],
   "source": [
    "#An alternative way\n",
    "a[0:2,1:4]"
   ]
  },
  {
   "cell_type": "markdown",
   "id": "4ecbba9f",
   "metadata": {},
   "source": [
    "NUMPY OPERATIONS"
   ]
  },
  {
   "cell_type": "markdown",
   "id": "2e0054e3",
   "metadata": {},
   "source": [
    "-axis = 0 means row wise"
   ]
  },
  {
   "cell_type": "markdown",
   "id": "9181b25b",
   "metadata": {},
   "source": [
    "-axis = 1 means column wise"
   ]
  },
  {
   "cell_type": "markdown",
   "id": "bddb9d17",
   "metadata": {},
   "source": [
    "1.SUMMING ELEMENTS IN ARRAY"
   ]
  },
  {
   "cell_type": "code",
   "execution_count": 228,
   "id": "9b586ff1",
   "metadata": {},
   "outputs": [
    {
     "name": "stdout",
     "output_type": "stream",
     "text": [
      "Axis 0 sum: [3 5 7]\n",
      "Axis 1 sum: [ 3 12]\n"
     ]
    }
   ],
   "source": [
    "#We use numpy.sum() where the axis parameter controls which axis will be aggregated\n",
    "a = np.array([[0,1,2],[3,4,5]])\n",
    "print(\"Axis 0 sum: {}\".format(np.sum(a,axis = 0)))\n",
    "print(\"Axis 1 sum: {}\".format(np.sum(a,axis = 1)))\n"
   ]
  },
  {
   "cell_type": "code",
   "execution_count": 229,
   "id": "49f0bb73",
   "metadata": {},
   "outputs": [
    {
     "data": {
      "text/plain": [
       "array([100, 101, 102, 103, 104, 105, 106, 107, 108, 109, 110, 111, 112,\n",
       "       113, 114, 115, 116, 117, 118, 119, 120, 121, 122, 123, 124, 125,\n",
       "       126, 127, 128, 129, 130, 131, 132, 133, 134, 135, 136, 137, 138,\n",
       "       139, 140, 141, 142, 143, 144, 145, 146, 147, 148, 149, 150, 151,\n",
       "       152, 153, 154, 155, 156, 157, 158, 159, 160, 161, 162, 163, 164,\n",
       "       165, 166, 167, 168, 169, 170, 171, 172, 173, 174, 175, 176, 177,\n",
       "       178, 179, 180, 181, 182, 183, 184, 185, 186, 187, 188, 189, 190,\n",
       "       191, 192, 193, 194, 195, 196, 197, 198, 199, 200, 201, 202, 203,\n",
       "       204, 205, 206, 207, 208, 209, 210, 211, 212, 213, 214, 215, 216,\n",
       "       217, 218, 219, 220, 221, 222, 223, 224, 225, 226, 227, 228, 229,\n",
       "       230, 231, 232, 233, 234, 235, 236, 237, 238, 239, 240, 241, 242,\n",
       "       243, 244, 245, 246, 247, 248, 249, 250, 251, 252, 253, 254, 255,\n",
       "       256, 257, 258, 259, 260, 261, 262, 263, 264, 265, 266, 267, 268,\n",
       "       269, 270, 271, 272, 273, 274, 275, 276, 277, 278, 279, 280, 281,\n",
       "       282, 283, 284, 285, 286, 287, 288, 289, 290, 291, 292, 293, 294,\n",
       "       295, 296, 297, 298, 299, 300, 301, 302, 303, 304, 305, 306, 307,\n",
       "       308, 309, 310, 311, 312, 313, 314, 315, 316, 317, 318, 319, 320,\n",
       "       321, 322, 323, 324, 325, 326, 327, 328, 329, 330, 331, 332, 333,\n",
       "       334, 335, 336, 337, 338, 339, 340, 341, 342, 343, 344, 345, 346,\n",
       "       347, 348, 349, 350, 351, 352, 353, 354, 355, 356, 357, 358, 359,\n",
       "       360, 361, 362, 363, 364, 365, 366, 367, 368, 369, 370, 371, 372,\n",
       "       373, 374, 375, 376, 377, 378, 379, 380, 381, 382, 383, 384, 385,\n",
       "       386, 387, 388, 389, 390, 391, 392, 393, 394, 395, 396, 397, 398,\n",
       "       399, 400, 401, 402, 403, 404, 405, 406, 407, 408, 409, 410, 411,\n",
       "       412, 413, 414, 415, 416, 417, 418, 419, 420, 421, 422, 423, 424,\n",
       "       425, 426, 427, 428, 429, 430, 431, 432, 433, 434, 435, 436, 437,\n",
       "       438, 439, 440, 441, 442, 443, 444, 445, 446, 447, 448, 449, 450,\n",
       "       451, 452, 453, 454, 455, 456, 457, 458, 459, 460, 461, 462, 463,\n",
       "       464, 465, 466, 467, 468, 469, 470, 471, 472, 473, 474, 475, 476,\n",
       "       477, 478, 479, 480, 481, 482, 483, 484, 485, 486, 487, 488, 489,\n",
       "       490, 491, 492, 493, 494, 495, 496, 497, 498, 499, 500, 501, 502,\n",
       "       503, 504, 505, 506, 507, 508, 509, 510, 511, 512, 513, 514, 515,\n",
       "       516, 517, 518, 519, 520, 521, 522, 523, 524, 525, 526, 527, 528,\n",
       "       529, 530, 531, 532, 533, 534, 535, 536, 537, 538, 539, 540, 541,\n",
       "       542, 543, 544, 545, 546, 547, 548, 549, 550, 551, 552, 553, 554,\n",
       "       555, 556, 557, 558, 559, 560, 561, 562, 563, 564, 565, 566, 567,\n",
       "       568, 569, 570, 571, 572, 573, 574, 575, 576, 577, 578, 579, 580,\n",
       "       581, 582, 583, 584, 585, 586, 587, 588, 589, 590, 591, 592, 593,\n",
       "       594, 595, 596, 597, 598, 599, 600, 601, 602, 603, 604, 605, 606,\n",
       "       607, 608, 609, 610, 611, 612, 613, 614, 615, 616, 617, 618, 619,\n",
       "       620, 621, 622, 623, 624, 625, 626, 627, 628, 629, 630, 631, 632,\n",
       "       633, 634, 635, 636, 637, 638, 639, 640, 641, 642, 643, 644, 645,\n",
       "       646, 647, 648, 649, 650, 651, 652, 653, 654, 655, 656, 657, 658,\n",
       "       659, 660, 661, 662, 663, 664, 665, 666, 667, 668, 669, 670, 671,\n",
       "       672, 673, 674, 675, 676, 677, 678, 679, 680, 681, 682, 683, 684,\n",
       "       685, 686, 687, 688, 689, 690, 691, 692, 693, 694, 695, 696, 697,\n",
       "       698, 699, 700, 701, 702, 703, 704, 705, 706, 707, 708, 709, 710,\n",
       "       711, 712, 713, 714, 715, 716, 717, 718, 719, 720, 721, 722, 723,\n",
       "       724, 725, 726, 727, 728, 729, 730, 731, 732, 733, 734, 735, 736,\n",
       "       737, 738, 739, 740, 741, 742, 743, 744, 745, 746, 747, 748, 749,\n",
       "       750, 751, 752, 753, 754, 755, 756, 757, 758, 759, 760, 761, 762,\n",
       "       763, 764, 765, 766, 767, 768, 769, 770, 771, 772, 773, 774, 775,\n",
       "       776, 777, 778, 779, 780, 781, 782, 783, 784, 785, 786, 787, 788,\n",
       "       789, 790, 791, 792, 793, 794, 795, 796, 797, 798, 799, 800, 801,\n",
       "       802, 803, 804, 805, 806, 807, 808, 809, 810, 811, 812, 813, 814,\n",
       "       815, 816, 817, 818, 819, 820, 821, 822, 823, 824, 825, 826, 827,\n",
       "       828, 829, 830, 831, 832, 833, 834, 835, 836, 837, 838, 839, 840,\n",
       "       841, 842, 843, 844, 845, 846, 847, 848, 849, 850, 851, 852, 853,\n",
       "       854, 855, 856, 857, 858, 859, 860, 861, 862, 863, 864, 865, 866,\n",
       "       867, 868, 869, 870, 871, 872, 873, 874, 875, 876, 877, 878, 879,\n",
       "       880, 881, 882, 883, 884, 885, 886, 887, 888, 889, 890, 891, 892,\n",
       "       893, 894, 895, 896, 897, 898, 899, 900, 901, 902, 903, 904, 905,\n",
       "       906, 907, 908, 909, 910, 911, 912, 913, 914, 915, 916, 917, 918,\n",
       "       919, 920, 921, 922, 923, 924, 925, 926, 927, 928, 929, 930, 931,\n",
       "       932, 933, 934, 935, 936, 937, 938, 939, 940, 941, 942, 943, 944,\n",
       "       945, 946, 947, 948, 949, 950, 951, 952, 953, 954, 955, 956, 957,\n",
       "       958, 959, 960, 961, 962, 963, 964, 965, 966, 967, 968, 969, 970,\n",
       "       971, 972, 973, 974, 975, 976, 977, 978, 979, 980, 981, 982, 983,\n",
       "       984, 985, 986, 987, 988, 989, 990, 991, 992, 993, 994, 995, 996,\n",
       "       997, 998, 999])"
      ]
     },
     "execution_count": 229,
     "metadata": {},
     "output_type": "execute_result"
    }
   ],
   "source": [
    "#Another examples\n",
    "a = np.arange(100,1000)\n",
    "a"
   ]
  },
  {
   "cell_type": "code",
   "execution_count": 230,
   "id": "c6cd8ff4",
   "metadata": {},
   "outputs": [
    {
     "data": {
      "text/plain": [
       "900"
      ]
     },
     "execution_count": 230,
     "metadata": {},
     "output_type": "execute_result"
    }
   ],
   "source": [
    "len(a)"
   ]
  },
  {
   "cell_type": "code",
   "execution_count": 231,
   "id": "ba27b7ec",
   "metadata": {},
   "outputs": [
    {
     "data": {
      "text/plain": [
       "1"
      ]
     },
     "execution_count": 231,
     "metadata": {},
     "output_type": "execute_result"
    }
   ],
   "source": [
    "a.ndim"
   ]
  },
  {
   "cell_type": "code",
   "execution_count": 232,
   "id": "ba5b8696",
   "metadata": {},
   "outputs": [
    {
     "data": {
      "text/plain": [
       "494550"
      ]
     },
     "execution_count": 232,
     "metadata": {},
     "output_type": "execute_result"
    }
   ],
   "source": [
    "#Because array 'a' is 1-dimension array, to obtain a sum of element, axis parameter is not necessary to be used.\n",
    "#axis =0 will give the same result as when axis parameter is not specified.\n",
    "np.sum(a)"
   ]
  },
  {
   "cell_type": "code",
   "execution_count": 233,
   "id": "7bfcf220",
   "metadata": {},
   "outputs": [
    {
     "data": {
      "text/plain": [
       "494550"
      ]
     },
     "execution_count": 233,
     "metadata": {},
     "output_type": "execute_result"
    }
   ],
   "source": [
    "np.sum(a,axis = 0)"
   ]
  },
  {
   "cell_type": "markdown",
   "id": "c7351fb4",
   "metadata": {},
   "source": [
    "But when we pass axis = 1 will throw an error"
   ]
  },
  {
   "cell_type": "code",
   "execution_count": 234,
   "id": "d41c5e61",
   "metadata": {},
   "outputs": [
    {
     "data": {
      "text/plain": [
       "array([[100, 101, 102, 103, 104],\n",
       "       [105, 106, 107, 108, 109],\n",
       "       [110, 111, 112, 113, 114],\n",
       "       [115, 116, 117, 118, 119],\n",
       "       [120, 121, 122, 123, 124],\n",
       "       [125, 126, 127, 128, 129],\n",
       "       [130, 131, 132, 133, 134],\n",
       "       [135, 136, 137, 138, 139],\n",
       "       [140, 141, 142, 143, 144],\n",
       "       [145, 146, 147, 148, 149],\n",
       "       [150, 151, 152, 153, 154],\n",
       "       [155, 156, 157, 158, 159],\n",
       "       [160, 161, 162, 163, 164],\n",
       "       [165, 166, 167, 168, 169],\n",
       "       [170, 171, 172, 173, 174],\n",
       "       [175, 176, 177, 178, 179],\n",
       "       [180, 181, 182, 183, 184],\n",
       "       [185, 186, 187, 188, 189],\n",
       "       [190, 191, 192, 193, 194],\n",
       "       [195, 196, 197, 198, 199],\n",
       "       [200, 201, 202, 203, 204],\n",
       "       [205, 206, 207, 208, 209],\n",
       "       [210, 211, 212, 213, 214],\n",
       "       [215, 216, 217, 218, 219],\n",
       "       [220, 221, 222, 223, 224],\n",
       "       [225, 226, 227, 228, 229],\n",
       "       [230, 231, 232, 233, 234],\n",
       "       [235, 236, 237, 238, 239],\n",
       "       [240, 241, 242, 243, 244],\n",
       "       [245, 246, 247, 248, 249],\n",
       "       [250, 251, 252, 253, 254],\n",
       "       [255, 256, 257, 258, 259],\n",
       "       [260, 261, 262, 263, 264],\n",
       "       [265, 266, 267, 268, 269],\n",
       "       [270, 271, 272, 273, 274],\n",
       "       [275, 276, 277, 278, 279],\n",
       "       [280, 281, 282, 283, 284],\n",
       "       [285, 286, 287, 288, 289],\n",
       "       [290, 291, 292, 293, 294],\n",
       "       [295, 296, 297, 298, 299],\n",
       "       [300, 301, 302, 303, 304],\n",
       "       [305, 306, 307, 308, 309],\n",
       "       [310, 311, 312, 313, 314],\n",
       "       [315, 316, 317, 318, 319],\n",
       "       [320, 321, 322, 323, 324],\n",
       "       [325, 326, 327, 328, 329],\n",
       "       [330, 331, 332, 333, 334],\n",
       "       [335, 336, 337, 338, 339],\n",
       "       [340, 341, 342, 343, 344],\n",
       "       [345, 346, 347, 348, 349],\n",
       "       [350, 351, 352, 353, 354],\n",
       "       [355, 356, 357, 358, 359],\n",
       "       [360, 361, 362, 363, 364],\n",
       "       [365, 366, 367, 368, 369],\n",
       "       [370, 371, 372, 373, 374],\n",
       "       [375, 376, 377, 378, 379],\n",
       "       [380, 381, 382, 383, 384],\n",
       "       [385, 386, 387, 388, 389],\n",
       "       [390, 391, 392, 393, 394],\n",
       "       [395, 396, 397, 398, 399],\n",
       "       [400, 401, 402, 403, 404],\n",
       "       [405, 406, 407, 408, 409],\n",
       "       [410, 411, 412, 413, 414],\n",
       "       [415, 416, 417, 418, 419],\n",
       "       [420, 421, 422, 423, 424],\n",
       "       [425, 426, 427, 428, 429],\n",
       "       [430, 431, 432, 433, 434],\n",
       "       [435, 436, 437, 438, 439],\n",
       "       [440, 441, 442, 443, 444],\n",
       "       [445, 446, 447, 448, 449],\n",
       "       [450, 451, 452, 453, 454],\n",
       "       [455, 456, 457, 458, 459],\n",
       "       [460, 461, 462, 463, 464],\n",
       "       [465, 466, 467, 468, 469],\n",
       "       [470, 471, 472, 473, 474],\n",
       "       [475, 476, 477, 478, 479],\n",
       "       [480, 481, 482, 483, 484],\n",
       "       [485, 486, 487, 488, 489],\n",
       "       [490, 491, 492, 493, 494],\n",
       "       [495, 496, 497, 498, 499],\n",
       "       [500, 501, 502, 503, 504],\n",
       "       [505, 506, 507, 508, 509],\n",
       "       [510, 511, 512, 513, 514],\n",
       "       [515, 516, 517, 518, 519],\n",
       "       [520, 521, 522, 523, 524],\n",
       "       [525, 526, 527, 528, 529],\n",
       "       [530, 531, 532, 533, 534],\n",
       "       [535, 536, 537, 538, 539],\n",
       "       [540, 541, 542, 543, 544],\n",
       "       [545, 546, 547, 548, 549],\n",
       "       [550, 551, 552, 553, 554],\n",
       "       [555, 556, 557, 558, 559],\n",
       "       [560, 561, 562, 563, 564],\n",
       "       [565, 566, 567, 568, 569],\n",
       "       [570, 571, 572, 573, 574],\n",
       "       [575, 576, 577, 578, 579],\n",
       "       [580, 581, 582, 583, 584],\n",
       "       [585, 586, 587, 588, 589],\n",
       "       [590, 591, 592, 593, 594],\n",
       "       [595, 596, 597, 598, 599],\n",
       "       [600, 601, 602, 603, 604],\n",
       "       [605, 606, 607, 608, 609],\n",
       "       [610, 611, 612, 613, 614],\n",
       "       [615, 616, 617, 618, 619],\n",
       "       [620, 621, 622, 623, 624],\n",
       "       [625, 626, 627, 628, 629],\n",
       "       [630, 631, 632, 633, 634],\n",
       "       [635, 636, 637, 638, 639],\n",
       "       [640, 641, 642, 643, 644],\n",
       "       [645, 646, 647, 648, 649],\n",
       "       [650, 651, 652, 653, 654],\n",
       "       [655, 656, 657, 658, 659],\n",
       "       [660, 661, 662, 663, 664],\n",
       "       [665, 666, 667, 668, 669],\n",
       "       [670, 671, 672, 673, 674],\n",
       "       [675, 676, 677, 678, 679],\n",
       "       [680, 681, 682, 683, 684],\n",
       "       [685, 686, 687, 688, 689],\n",
       "       [690, 691, 692, 693, 694],\n",
       "       [695, 696, 697, 698, 699],\n",
       "       [700, 701, 702, 703, 704],\n",
       "       [705, 706, 707, 708, 709],\n",
       "       [710, 711, 712, 713, 714],\n",
       "       [715, 716, 717, 718, 719],\n",
       "       [720, 721, 722, 723, 724],\n",
       "       [725, 726, 727, 728, 729],\n",
       "       [730, 731, 732, 733, 734],\n",
       "       [735, 736, 737, 738, 739],\n",
       "       [740, 741, 742, 743, 744],\n",
       "       [745, 746, 747, 748, 749],\n",
       "       [750, 751, 752, 753, 754],\n",
       "       [755, 756, 757, 758, 759],\n",
       "       [760, 761, 762, 763, 764],\n",
       "       [765, 766, 767, 768, 769],\n",
       "       [770, 771, 772, 773, 774],\n",
       "       [775, 776, 777, 778, 779],\n",
       "       [780, 781, 782, 783, 784],\n",
       "       [785, 786, 787, 788, 789],\n",
       "       [790, 791, 792, 793, 794],\n",
       "       [795, 796, 797, 798, 799],\n",
       "       [800, 801, 802, 803, 804],\n",
       "       [805, 806, 807, 808, 809],\n",
       "       [810, 811, 812, 813, 814],\n",
       "       [815, 816, 817, 818, 819],\n",
       "       [820, 821, 822, 823, 824],\n",
       "       [825, 826, 827, 828, 829],\n",
       "       [830, 831, 832, 833, 834],\n",
       "       [835, 836, 837, 838, 839],\n",
       "       [840, 841, 842, 843, 844],\n",
       "       [845, 846, 847, 848, 849],\n",
       "       [850, 851, 852, 853, 854],\n",
       "       [855, 856, 857, 858, 859],\n",
       "       [860, 861, 862, 863, 864],\n",
       "       [865, 866, 867, 868, 869],\n",
       "       [870, 871, 872, 873, 874],\n",
       "       [875, 876, 877, 878, 879],\n",
       "       [880, 881, 882, 883, 884],\n",
       "       [885, 886, 887, 888, 889],\n",
       "       [890, 891, 892, 893, 894],\n",
       "       [895, 896, 897, 898, 899],\n",
       "       [900, 901, 902, 903, 904],\n",
       "       [905, 906, 907, 908, 909],\n",
       "       [910, 911, 912, 913, 914],\n",
       "       [915, 916, 917, 918, 919],\n",
       "       [920, 921, 922, 923, 924],\n",
       "       [925, 926, 927, 928, 929],\n",
       "       [930, 931, 932, 933, 934],\n",
       "       [935, 936, 937, 938, 939],\n",
       "       [940, 941, 942, 943, 944],\n",
       "       [945, 946, 947, 948, 949],\n",
       "       [950, 951, 952, 953, 954],\n",
       "       [955, 956, 957, 958, 959],\n",
       "       [960, 961, 962, 963, 964],\n",
       "       [965, 966, 967, 968, 969],\n",
       "       [970, 971, 972, 973, 974],\n",
       "       [975, 976, 977, 978, 979],\n",
       "       [980, 981, 982, 983, 984],\n",
       "       [985, 986, 987, 988, 989],\n",
       "       [990, 991, 992, 993, 994],\n",
       "       [995, 996, 997, 998, 999]])"
      ]
     },
     "execution_count": 234,
     "metadata": {},
     "output_type": "execute_result"
    }
   ],
   "source": [
    "b = a.reshape(180,5)\n",
    "b"
   ]
  },
  {
   "cell_type": "code",
   "execution_count": 235,
   "id": "8d8aaf23",
   "metadata": {},
   "outputs": [
    {
     "data": {
      "text/plain": [
       "(180, 5)"
      ]
     },
     "execution_count": 235,
     "metadata": {},
     "output_type": "execute_result"
    }
   ],
   "source": [
    "b.shape"
   ]
  },
  {
   "cell_type": "code",
   "execution_count": 236,
   "id": "12d9869b",
   "metadata": {},
   "outputs": [
    {
     "data": {
      "text/plain": [
       "2"
      ]
     },
     "execution_count": 236,
     "metadata": {},
     "output_type": "execute_result"
    }
   ],
   "source": [
    "b.ndim"
   ]
  },
  {
   "cell_type": "code",
   "execution_count": 237,
   "id": "e19de1dd",
   "metadata": {},
   "outputs": [
    {
     "data": {
      "text/plain": [
       "900"
      ]
     },
     "execution_count": 237,
     "metadata": {},
     "output_type": "execute_result"
    }
   ],
   "source": [
    "b.size"
   ]
  },
  {
   "cell_type": "code",
   "execution_count": 238,
   "id": "d60d6d24",
   "metadata": {},
   "outputs": [
    {
     "data": {
      "text/plain": [
       "array([98550, 98730, 98910, 99090, 99270])"
      ]
     },
     "execution_count": 238,
     "metadata": {},
     "output_type": "execute_result"
    }
   ],
   "source": [
    "np.sum(b, axis = 0)#summing row wise"
   ]
  },
  {
   "cell_type": "code",
   "execution_count": 239,
   "id": "c4158da3",
   "metadata": {},
   "outputs": [
    {
     "data": {
      "text/plain": [
       "5"
      ]
     },
     "execution_count": 239,
     "metadata": {},
     "output_type": "execute_result"
    }
   ],
   "source": [
    "np.sum(b,axis = 0).size"
   ]
  },
  {
   "cell_type": "code",
   "execution_count": 240,
   "id": "3b5659be",
   "metadata": {},
   "outputs": [
    {
     "data": {
      "text/plain": [
       "array([ 510,  535,  560,  585,  610,  635,  660,  685,  710,  735,  760,\n",
       "        785,  810,  835,  860,  885,  910,  935,  960,  985, 1010, 1035,\n",
       "       1060, 1085, 1110, 1135, 1160, 1185, 1210, 1235, 1260, 1285, 1310,\n",
       "       1335, 1360, 1385, 1410, 1435, 1460, 1485, 1510, 1535, 1560, 1585,\n",
       "       1610, 1635, 1660, 1685, 1710, 1735, 1760, 1785, 1810, 1835, 1860,\n",
       "       1885, 1910, 1935, 1960, 1985, 2010, 2035, 2060, 2085, 2110, 2135,\n",
       "       2160, 2185, 2210, 2235, 2260, 2285, 2310, 2335, 2360, 2385, 2410,\n",
       "       2435, 2460, 2485, 2510, 2535, 2560, 2585, 2610, 2635, 2660, 2685,\n",
       "       2710, 2735, 2760, 2785, 2810, 2835, 2860, 2885, 2910, 2935, 2960,\n",
       "       2985, 3010, 3035, 3060, 3085, 3110, 3135, 3160, 3185, 3210, 3235,\n",
       "       3260, 3285, 3310, 3335, 3360, 3385, 3410, 3435, 3460, 3485, 3510,\n",
       "       3535, 3560, 3585, 3610, 3635, 3660, 3685, 3710, 3735, 3760, 3785,\n",
       "       3810, 3835, 3860, 3885, 3910, 3935, 3960, 3985, 4010, 4035, 4060,\n",
       "       4085, 4110, 4135, 4160, 4185, 4210, 4235, 4260, 4285, 4310, 4335,\n",
       "       4360, 4385, 4410, 4435, 4460, 4485, 4510, 4535, 4560, 4585, 4610,\n",
       "       4635, 4660, 4685, 4710, 4735, 4760, 4785, 4810, 4835, 4860, 4885,\n",
       "       4910, 4935, 4960, 4985])"
      ]
     },
     "execution_count": 240,
     "metadata": {},
     "output_type": "execute_result"
    }
   ],
   "source": [
    "np.sum(b, axis = 1)#summing column wise"
   ]
  },
  {
   "cell_type": "code",
   "execution_count": 241,
   "id": "2e05e3c8",
   "metadata": {},
   "outputs": [
    {
     "data": {
      "text/plain": [
       "180"
      ]
     },
     "execution_count": 241,
     "metadata": {},
     "output_type": "execute_result"
    }
   ],
   "source": [
    "np.sum(b,axis = 1).size"
   ]
  },
  {
   "cell_type": "markdown",
   "id": "81a03de3",
   "metadata": {},
   "source": [
    "2.CONCATENATING NUMPY ARRAY"
   ]
  },
  {
   "cell_type": "code",
   "execution_count": 242,
   "id": "9150e704",
   "metadata": {},
   "outputs": [
    {
     "data": {
      "text/plain": [
       "array([[1, 1, 1],\n",
       "       [1, 1, 1],\n",
       "       [9, 9, 9],\n",
       "       [9, 9, 9]])"
      ]
     },
     "execution_count": 242,
     "metadata": {},
     "output_type": "execute_result"
    }
   ],
   "source": [
    "#We use numpy.concatenate()\n",
    "a = np.array([[1,1,1],[1,1,1]])\n",
    "b = np.array([[9,9,9],[9,9,9]])\n",
    "row_wise = np.concatenate([a,b],axis = 0)\n",
    "row_wise"
   ]
  },
  {
   "cell_type": "code",
   "execution_count": 243,
   "id": "6c8dfcdb",
   "metadata": {},
   "outputs": [
    {
     "data": {
      "text/plain": [
       "array([[1, 1, 1, 9, 9, 9],\n",
       "       [1, 1, 1, 9, 9, 9]])"
      ]
     },
     "execution_count": 243,
     "metadata": {},
     "output_type": "execute_result"
    }
   ],
   "source": [
    "column_wise = np.concatenate([a,b], axis = 1)\n",
    "column_wise"
   ]
  },
  {
   "cell_type": "code",
   "execution_count": 244,
   "id": "378e66b9",
   "metadata": {},
   "outputs": [
    {
     "data": {
      "text/plain": [
       "array([1, 1, 1, 9, 9, 9])"
      ]
     },
     "execution_count": 244,
     "metadata": {},
     "output_type": "execute_result"
    }
   ],
   "source": [
    "#Another example\n",
    "#Since its 1-dimension array\n",
    "#We can specify the axis = 0 or not,\n",
    "#but axis = 1 may throw an error\n",
    "a = np.array([1,1,1])\n",
    "b = np.array([9,9,9])\n",
    "row_wise = np.concatenate([a,b])\n",
    "row_wise"
   ]
  },
  {
   "cell_type": "code",
   "execution_count": 245,
   "id": "a61031b3",
   "metadata": {},
   "outputs": [
    {
     "data": {
      "text/plain": [
       "array([1, 1, 1, 9, 9, 9])"
      ]
     },
     "execution_count": 245,
     "metadata": {},
     "output_type": "execute_result"
    }
   ],
   "source": [
    "#Alternative\n",
    "row_wise = np.concatenate([a,b],axis = 0)\n",
    "row_wise"
   ]
  },
  {
   "cell_type": "markdown",
   "id": "3522a4dc",
   "metadata": {},
   "source": [
    "3.SORTING ARRAY"
   ]
  },
  {
   "cell_type": "code",
   "execution_count": 246,
   "id": "e425dc3b",
   "metadata": {},
   "outputs": [
    {
     "data": {
      "text/plain": [
       "array([-56,  -1,   0,   1,   2,   4,   4,   5,  30,  78])"
      ]
     },
     "execution_count": 246,
     "metadata": {},
     "output_type": "execute_result"
    }
   ],
   "source": [
    "#We use np.sort()\n",
    "#You can specify the axis,kind and order when you call the function\n",
    "#By default it sort in ascending order\n",
    "#An example\n",
    "a = np.array([2,4,5,1,0,-1,-56,78,4,30])\n",
    "np.sort(a)"
   ]
  },
  {
   "cell_type": "code",
   "execution_count": 247,
   "id": "5c9ef64c",
   "metadata": {},
   "outputs": [
    {
     "data": {
      "text/plain": [
       "array([0.69780324, 0.43195692, 0.05284583, 0.24471311, 0.58741054,\n",
       "       0.74536937, 0.4756511 , 0.15790835, 0.20727378, 0.33860359])"
      ]
     },
     "execution_count": 247,
     "metadata": {},
     "output_type": "execute_result"
    }
   ],
   "source": [
    "#Another example\n",
    "#Let's create a random numbers in array\n",
    "a = np.random.random(10)\n",
    "a"
   ]
  },
  {
   "cell_type": "code",
   "execution_count": 248,
   "id": "f9dcca8b",
   "metadata": {},
   "outputs": [
    {
     "data": {
      "text/plain": [
       "array([0.05284583, 0.15790835, 0.20727378, 0.24471311, 0.33860359,\n",
       "       0.43195692, 0.4756511 , 0.58741054, 0.69780324, 0.74536937])"
      ]
     },
     "execution_count": 248,
     "metadata": {},
     "output_type": "execute_result"
    }
   ],
   "source": [
    "#Let's sort it in ascending order\n",
    "np.sort(a)"
   ]
  },
  {
   "cell_type": "markdown",
   "id": "dfd7668a",
   "metadata": {},
   "source": [
    "4.MATHEMATICAL OPERATIONS IN ARRAY"
   ]
  },
  {
   "cell_type": "markdown",
   "id": "26598fde",
   "metadata": {},
   "source": [
    "Various mathematical operations may be performed on Numpy arrays."
   ]
  },
  {
   "cell_type": "code",
   "execution_count": 249,
   "id": "12bdd7f5",
   "metadata": {},
   "outputs": [
    {
     "data": {
      "text/plain": [
       "array([2., 3., 4.])"
      ]
     },
     "execution_count": 249,
     "metadata": {},
     "output_type": "execute_result"
    }
   ],
   "source": [
    "#An Example \n",
    "#Finding the square roots of elements in numpy array\n",
    "#We may use numpy.sqrt()\n",
    "a = np.array([4,9,16])\n",
    "b = np.sqrt(a)\n",
    "b"
   ]
  },
  {
   "cell_type": "code",
   "execution_count": 250,
   "id": "42cb4566",
   "metadata": {},
   "outputs": [
    {
     "data": {
      "text/plain": [
       "0.816496580927726"
      ]
     },
     "execution_count": 250,
     "metadata": {},
     "output_type": "execute_result"
    }
   ],
   "source": [
    "#Finding a standard deviation of an array\n",
    "#Use numpy.std()\n",
    "np.std(b)"
   ]
  },
  {
   "cell_type": "code",
   "execution_count": 251,
   "id": "2a770a1c",
   "metadata": {},
   "outputs": [
    {
     "name": "stdout",
     "output_type": "stream",
     "text": [
      "The result is the same.\n"
     ]
    },
    {
     "data": {
      "text/plain": [
       "0.816496580927726"
      ]
     },
     "execution_count": 251,
     "metadata": {},
     "output_type": "execute_result"
    }
   ],
   "source": [
    "#Let's use chaining method\n",
    "print(\"The result is the same.\")\n",
    "np.sqrt(a).std()"
   ]
  },
  {
   "cell_type": "code",
   "execution_count": 252,
   "id": "012cf2b6",
   "metadata": {},
   "outputs": [
    {
     "name": "stdout",
     "output_type": "stream",
     "text": [
      "sums is:\n",
      "[[11 14 16]\n",
      " [11 14  6]]\n",
      "Difference is:\n",
      "[[ -9 -10 -10]\n",
      " [ -3  -4   6]]\n",
      "Product is:\n",
      "[[10 24 39]\n",
      " [28 45  0]]\n",
      "Quotient is:\n",
      "[[0.1        0.16666667 0.23076923]\n",
      " [0.57142857 0.55555556        inf]]\n"
     ]
    },
    {
     "name": "stderr",
     "output_type": "stream",
     "text": [
      "C:\\Users\\user\\AppData\\Local\\Temp\\ipykernel_2376\\2922813518.py:7: RuntimeWarning: divide by zero encountered in true_divide\n",
      "  print(\"Quotient is:\\n{}\".format((a/b)))\n"
     ]
    }
   ],
   "source": [
    "#Another example\n",
    "a = np.array([[1,2,3],[4,5,6]])\n",
    "b = np.array([[10,12,13],[7,9,0]])\n",
    "print(\"sums is:\\n{}\".format((a+b)))\n",
    "print(\"Difference is:\\n{}\".format((a-b)))\n",
    "print(\"Product is:\\n{}\".format((a*b)))\n",
    "print(\"Quotient is:\\n{}\".format((a/b)))"
   ]
  },
  {
   "cell_type": "markdown",
   "id": "bc42b0b6",
   "metadata": {},
   "source": [
    "This error is Due to division of Zero. Let's modify the element in order to avoid that error.\n"
   ]
  },
  {
   "cell_type": "code",
   "execution_count": 253,
   "id": "5705769a",
   "metadata": {},
   "outputs": [
    {
     "name": "stdout",
     "output_type": "stream",
     "text": [
      "Quotient is:\n",
      "[[0.1        0.16666667 0.23076923]\n",
      " [0.57142857 0.55555556 3.        ]]\n"
     ]
    }
   ],
   "source": [
    "a = np.array([[1,2,3],[4,5,6]])\n",
    "b = np.array([[10,12,13],[7,9,2]])\n",
    "print(\"Quotient is:\\n{}\".format((a/b)))"
   ]
  },
  {
   "cell_type": "code",
   "execution_count": 254,
   "id": "c1d5e3c2",
   "metadata": {},
   "outputs": [
    {
     "data": {
      "text/plain": [
       "array([0.57608856, 0.10402109, 0.81066866, 0.38602682, 0.07108804])"
      ]
     },
     "execution_count": 254,
     "metadata": {},
     "output_type": "execute_result"
    }
   ],
   "source": [
    "#How to stack arrays in sequency vertically(row wise)\n",
    "#We use numpy.vstack()\n",
    "#An example\n",
    "a = np.random.random(5)\n",
    "a"
   ]
  },
  {
   "cell_type": "code",
   "execution_count": 255,
   "id": "aad52ec8",
   "metadata": {},
   "outputs": [
    {
     "data": {
      "text/plain": [
       "array([[0.57608856],\n",
       "       [0.10402109],\n",
       "       [0.81066866],\n",
       "       [0.38602682],\n",
       "       [0.07108804]])"
      ]
     },
     "execution_count": 255,
     "metadata": {},
     "output_type": "execute_result"
    }
   ],
   "source": [
    "#Let's stack array in sequence vertically\n",
    "np.vstack(a)"
   ]
  },
  {
   "cell_type": "code",
   "execution_count": 256,
   "id": "bdc61064",
   "metadata": {},
   "outputs": [
    {
     "data": {
      "text/plain": [
       "array([[0.57608856],\n",
       "       [0.10402109],\n",
       "       [0.81066866],\n",
       "       [0.38602682],\n",
       "       [0.07108804]])"
      ]
     },
     "execution_count": 256,
     "metadata": {},
     "output_type": "execute_result"
    }
   ],
   "source": [
    "#An alternative way\n",
    "np.row_stack(a)"
   ]
  },
  {
   "cell_type": "code",
   "execution_count": 257,
   "id": "0bb51f25",
   "metadata": {},
   "outputs": [
    {
     "data": {
      "text/plain": [
       "array([-12,  -8,  -4,   0,   4,   8,  12,  16,  20])"
      ]
     },
     "execution_count": 257,
     "metadata": {},
     "output_type": "execute_result"
    }
   ],
   "source": [
    "#Another example\n",
    "a = np.arange(-12,23,4)\n",
    "a"
   ]
  },
  {
   "cell_type": "code",
   "execution_count": 258,
   "id": "7e7293c8",
   "metadata": {},
   "outputs": [
    {
     "data": {
      "text/plain": [
       "array([ 10.  ,  21.25,  32.5 ,  43.75,  55.  ,  66.25,  77.5 ,  88.75,\n",
       "       100.  ])"
      ]
     },
     "execution_count": 258,
     "metadata": {},
     "output_type": "execute_result"
    }
   ],
   "source": [
    "b = np.linspace(10,100,9)\n",
    "b"
   ]
  },
  {
   "cell_type": "code",
   "execution_count": 259,
   "id": "54e44444",
   "metadata": {},
   "outputs": [
    {
     "data": {
      "text/plain": [
       "array([[-12.  ,  -8.  ,  -4.  ,   0.  ,   4.  ,   8.  ,  12.  ,  16.  ,\n",
       "         20.  ],\n",
       "       [ 10.  ,  21.25,  32.5 ,  43.75,  55.  ,  66.25,  77.5 ,  88.75,\n",
       "        100.  ]])"
      ]
     },
     "execution_count": 259,
     "metadata": {},
     "output_type": "execute_result"
    }
   ],
   "source": [
    "#We combine and arrange it vertically\n",
    "c = np.vstack([a,b])\n",
    "c"
   ]
  },
  {
   "cell_type": "code",
   "execution_count": 260,
   "id": "db3aef00",
   "metadata": {},
   "outputs": [
    {
     "data": {
      "text/plain": [
       "2"
      ]
     },
     "execution_count": 260,
     "metadata": {},
     "output_type": "execute_result"
    }
   ],
   "source": [
    "#dimension of 'c'\n",
    "c.ndim"
   ]
  },
  {
   "cell_type": "code",
   "execution_count": 261,
   "id": "939248df",
   "metadata": {},
   "outputs": [
    {
     "data": {
      "text/plain": [
       "array([ 1,  3,  5,  7,  9, 11, 13, 15, 17])"
      ]
     },
     "execution_count": 261,
     "metadata": {},
     "output_type": "execute_result"
    }
   ],
   "source": [
    "#How to stack arrays in sequency horizontally(column wise)\n",
    "#We use numpy.hstack()\n",
    "#An example\n",
    "a = np.arange(1,18,2)\n",
    "a"
   ]
  },
  {
   "cell_type": "code",
   "execution_count": 262,
   "id": "47577b67",
   "metadata": {},
   "outputs": [
    {
     "data": {
      "text/plain": [
       "9"
      ]
     },
     "execution_count": 262,
     "metadata": {},
     "output_type": "execute_result"
    }
   ],
   "source": [
    "a.size"
   ]
  },
  {
   "cell_type": "code",
   "execution_count": 263,
   "id": "5798a98c",
   "metadata": {},
   "outputs": [
    {
     "data": {
      "text/plain": [
       "(9,)"
      ]
     },
     "execution_count": 263,
     "metadata": {},
     "output_type": "execute_result"
    }
   ],
   "source": [
    "a.shape"
   ]
  },
  {
   "cell_type": "code",
   "execution_count": 264,
   "id": "66a4dbb2",
   "metadata": {},
   "outputs": [
    {
     "data": {
      "text/plain": [
       "array([[ 1,  3,  5],\n",
       "       [ 7,  9, 11],\n",
       "       [13, 15, 17]])"
      ]
     },
     "execution_count": 264,
     "metadata": {},
     "output_type": "execute_result"
    }
   ],
   "source": [
    "b = a.reshape(3,3)\n",
    "b"
   ]
  },
  {
   "cell_type": "code",
   "execution_count": 265,
   "id": "0d0e4f25",
   "metadata": {},
   "outputs": [
    {
     "data": {
      "text/plain": [
       "9"
      ]
     },
     "execution_count": 265,
     "metadata": {},
     "output_type": "execute_result"
    }
   ],
   "source": [
    "b.size"
   ]
  },
  {
   "cell_type": "code",
   "execution_count": 266,
   "id": "e1c5958e",
   "metadata": {},
   "outputs": [
    {
     "data": {
      "text/plain": [
       "(3, 3)"
      ]
     },
     "execution_count": 266,
     "metadata": {},
     "output_type": "execute_result"
    }
   ],
   "source": [
    "b.shape"
   ]
  },
  {
   "cell_type": "code",
   "execution_count": 267,
   "id": "0b18bfc2",
   "metadata": {},
   "outputs": [
    {
     "data": {
      "text/plain": [
       "array([ 1,  3,  5,  7,  9, 11, 13, 15, 17])"
      ]
     },
     "execution_count": 267,
     "metadata": {},
     "output_type": "execute_result"
    }
   ],
   "source": [
    "#Let's stack 'b' in sequence horizontally\n",
    "#after stack 'b' horizontally the result will be the same as that in array 'a'\n",
    "np.hstack(b)"
   ]
  },
  {
   "cell_type": "code",
   "execution_count": 268,
   "id": "f8051800",
   "metadata": {},
   "outputs": [],
   "source": [
    "#It will continue...................\n",
    "#More numpy function may be implemented.............."
   ]
  }
 ],
 "metadata": {
  "kernelspec": {
   "display_name": "Python 3 (ipykernel)",
   "language": "python",
   "name": "python3"
  },
  "language_info": {
   "codemirror_mode": {
    "name": "ipython",
    "version": 3
   },
   "file_extension": ".py",
   "mimetype": "text/x-python",
   "name": "python",
   "nbconvert_exporter": "python",
   "pygments_lexer": "ipython3",
   "version": "3.9.13"
  }
 },
 "nbformat": 4,
 "nbformat_minor": 5
}
