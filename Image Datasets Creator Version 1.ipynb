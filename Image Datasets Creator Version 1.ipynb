{
 "cells": [
  {
   "cell_type": "code",
   "execution_count": 4,
   "id": "53712ffb",
   "metadata": {},
   "outputs": [
    {
     "name": "stdout",
     "output_type": "stream",
     "text": [
      "Camera is Opened.\n"
     ]
    }
   ],
   "source": [
    "#Create Camera Object\n",
    "#Import necessary libraries\n",
    "import cv2 as cv\n",
    "import os\n",
    "\n",
    "#Argument 0 is given to use the default camera of the laptop\n",
    "camera = cv.VideoCapture(0)\n",
    "#Now check if the camera object is created successfully\n",
    "if not camera.isOpened():\n",
    "    print(\"The Camera is not Opened....Exiting\")\n",
    "    exit()\n",
    "if camera.isOpened():\n",
    "    print(\"Camera is Opened.\")\n"
   ]
  },
  {
   "cell_type": "code",
   "execution_count": 5,
   "id": "295cc017",
   "metadata": {},
   "outputs": [
    {
     "name": "stdout",
     "output_type": "stream",
     "text": [
      "How many do you want to take photos?: 1\n",
      "For person 0\n",
      "Enter your name:r\n"
     ]
    }
   ],
   "source": [
    "#Create Label Folders\n",
    "import os\n",
    "#Create a list of labels\n",
    "Labels = [\"Background\"]\n",
    "c = int(input(\"How many do you want to take photos?: \"))\n",
    "for i in range(c):\n",
    "    print(\"For person {}\".format(i))\n",
    "    names = input(\"Enter your name:\")\n",
    "    Labels.append(names)\n",
    "#Now Create folders for each label to store images\n",
    "for label in Labels:\n",
    "    if not os.path.exists(label):\n",
    "        os.mkdir(label)\n",
    "        "
   ]
  },
  {
   "cell_type": "code",
   "execution_count": 6,
   "id": "411ff2e2",
   "metadata": {},
   "outputs": [
    {
     "name": "stdout",
     "output_type": "stream",
     "text": [
      "Press 's' to start data collection for:  Background\n",
      "s\n",
      "How many photo to capture?: 1\n",
      "Press any Key to Continue:g\n",
      "Press 's' to start data collection for:  r\n",
      "s\n",
      "How many photo to capture?: 1\n",
      "Press any Key to Continue:g\n"
     ]
    }
   ],
   "source": [
    "#Image capturing\n",
    "for folder in Labels:\n",
    "    #Using count variable to name the images in the dataset\n",
    "    count = 0\n",
    "    #Taking input to start the capturing\n",
    "    print(\"Press 's' to start data collection for:  \"+folder)\n",
    "    userinput = input()\n",
    "    if userinput != 's':\n",
    "        print(\"Wrong Input..........\")\n",
    "        exit()\n",
    "    #clicking images per label\n",
    "    value = int(input(\"How many photo to capture?: \"))\n",
    "    \n",
    "    while count < value:\n",
    "        #read return two values one is the exit code and other is the frame\n",
    "        status, frame = camera.read()\n",
    "        #check if we get the frame or not\n",
    "        if not status:\n",
    "            print(\"Frame is not been captured....Exiting...\")\n",
    "            break\n",
    "        #Convert the image into gray format for fast calculation\n",
    "        #gray = cv.cvtColor(frame, cv.COLOR_BGR2GRAY)\n",
    "        \n",
    "        #Normal image with its color\n",
    "        gray = frame\n",
    "        #Display window with gray image\n",
    "        cv.imshow(\"Video Window\", gray)\n",
    "        #resizing the image to store it\n",
    "        gray = cv.resize(gray, (500,500))\n",
    "        #Store the image to specific label folder\n",
    "        cv.imwrite(\"C:/Users/user/Desktop/Assignment/\"+folder+'/img'+str(count)+'.png',gray)\n",
    "        \n",
    "        count = count + 1\n",
    "        x = input(\"Press any Key to Continue:\")\n",
    "        #To Quite the display window press 'q'\n",
    "        if cv.waitKey(1) == ord('q'):\n",
    "            break\n",
    "#When everything done, release the capture\n",
    "camera.release()\n",
    "cv.destroyAllWindows()"
   ]
  },
  {
   "cell_type": "code",
   "execution_count": 24,
   "id": "6c9f3a7c",
   "metadata": {},
   "outputs": [],
   "source": []
  },
  {
   "cell_type": "code",
   "execution_count": null,
   "id": "faaa5f09",
   "metadata": {},
   "outputs": [],
   "source": []
  },
  {
   "cell_type": "code",
   "execution_count": null,
   "id": "2f2b8cda",
   "metadata": {},
   "outputs": [],
   "source": []
  }
 ],
 "metadata": {
  "kernelspec": {
   "display_name": "Python 3 (ipykernel)",
   "language": "python",
   "name": "python3"
  },
  "language_info": {
   "codemirror_mode": {
    "name": "ipython",
    "version": 3
   },
   "file_extension": ".py",
   "mimetype": "text/x-python",
   "name": "python",
   "nbconvert_exporter": "python",
   "pygments_lexer": "ipython3",
   "version": "3.9.13"
  }
 },
 "nbformat": 4,
 "nbformat_minor": 5
}
